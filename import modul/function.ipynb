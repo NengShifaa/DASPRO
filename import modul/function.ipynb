{
 "cells": [
  {
   "cell_type": "code",
   "execution_count": 1,
   "id": "e50381f1-c24a-45d5-8622-3d4216dd1be9",
   "metadata": {},
   "outputs": [],
   "source": [
    "#Fungsi tanpa parameter\n",
    "import datetime as dt #Built in function\n",
    "def showDate():\n",
    "    today = dt.date.today()\n",
    "    print(f\"Sekarang tanggal : {today}\")\n",
    "\n",
    "def isWeekday():\n",
    "    week = dt.date.today().weekday()\n",
    "    if week >=5:\n",
    "        print(f\"Sekarang adalah weekand\")\n",
    "    else:\n",
    "        print(f\"Sekarang saatnya bekerja\")"
   ]
  },
  {
   "cell_type": "code",
   "execution_count": 2,
   "id": "ffdc586d-f353-41d1-a251-96e7e24f0c7c",
   "metadata": {},
   "outputs": [],
   "source": [
    "#Fungsi dengan parameter\n",
    "def getFullName(first,middle,last):\n",
    "    return (f\"Welcome, {first} {middle} {last}, S.Kom\")"
   ]
  },
  {
   "cell_type": "code",
   "execution_count": 3,
   "id": "33f79191-265e-46be-8217-5c05e1c9df6f",
   "metadata": {},
   "outputs": [
    {
     "name": "stdin",
     "output_type": "stream",
     "text": [
      "Isikan Bilangan 1: 7\n",
      "Isikan Bilangan 2: 5\n"
     ]
    },
    {
     "name": "stdout",
     "output_type": "stream",
     "text": [
      "Hasil penjumlahan 7 dan 5 = 12\n",
      "Hasil perkalian 7 dan 5 = 35\n",
      "Hasil penjumlahan 12 dan 35 = 47\n",
      "Hasil penjumlahan 7 dan 5 = 12\n",
      "Hasil perkalian 7 dan 5 = 35\n"
     ]
    }
   ],
   "source": [
    "#Fungsi dengan parameter dan return value untuk aritmatika\n",
    "def addNumber(num1,num2):\n",
    "    return num1 + num2\n",
    "\n",
    "def multiplyNumber(num1,num2):\n",
    "    return num1 * num2\n",
    "\n",
    "def addMulNumber(num1,num2):\n",
    "    add = num1 + num2\n",
    "    mul = num1 * num2\n",
    "    return add,mul\n",
    "    \n",
    "bil1 = int(input(\"Isikan Bilangan 1:\")) #10\n",
    "bil2 = int(input(\"Isikan Bilangan 2:\")) #5\n",
    "r1 = addNumber(bil1,bil2) #15\n",
    "r2 = multiplyNumber(bil1,bil2) #50\n",
    "r3 = addNumber(r1,r2) #65\n",
    "add,mul = addMulNumber(bil1,bil2) #15,50\n",
    "\n",
    "print(f\"Hasil penjumlahan {bil1} dan {bil2} = {r1}\")\n",
    "print(f\"Hasil perkalian {bil1} dan {bil2} = {r2}\")\n",
    "print(f\"Hasil penjumlahan {r1} dan {r2} = {r3}\")\n",
    "print(f\"Hasil penjumlahan {bil1} dan {bil2} = {add}\")\n",
    "print(f\"Hasil perkalian {bil1} dan {bil2} = {mul}\")"
   ]
  },
  {
   "cell_type": "code",
   "execution_count": 6,
   "id": "189b0278-547c-4d13-9ef3-a30d33234d0c",
   "metadata": {},
   "outputs": [
    {
     "name": "stdout",
     "output_type": "stream",
     "text": [
      "Sekarang tanggal : 2025-05-28\n",
      "Sekarang saatnya bekerja\n",
      "Welcome, Dani  Raja, S.Kom\n",
      "Akun berhasil dibuat:\n",
      "No KTP:4842685628310585247\n",
      "Nama:Dodi\n",
      "Saldo awal:100000\n",
      "Proses Registrasi Berhasil!!\n",
      "Username :Jaji\n",
      "Nama :Jaji\n",
      "Status :False\n",
      "Hak akses :user\n",
      "Proses Registrasi Berhasil!!\n",
      "Username :Jaji\n",
      "Nama :Jaji\n",
      "Status :True\n",
      "Hak akses :admin\n",
      "Proses Registrasi Berhasil!!\n",
      "Username :Rusdi\n",
      "Nama :Rusdi\n",
      "Status :False\n",
      "Hak akses :admin\n"
     ]
    }
   ],
   "source": [
    "#Fungai dengan nilai default\n",
    "def daftarRekening(no_ktp, nama, saldo=100000):\n",
    "    ket = f\"Akun berhasil dibuat:\\n\"\n",
    "    ket += f\"No KTP:{no_ktp}\\n\"\n",
    "    ket += f\"Nama:{nama}\\n\"\n",
    "    ket += f\"Saldo awal:{saldo}\"\n",
    "    return ket \n",
    "\n",
    "def userRegistration(username, password, nama, status=False, role=\"user\"):\n",
    "    print(f\"Proses Registrasi Berhasil!!\")\n",
    "    print(f\"Username :{username}\")\n",
    "    print(f\"Nama :{nama}\")\n",
    "    print(f\"Status :{status}\")\n",
    "    print(f\"Hak akses :{role}\")\n",
    "\n",
    "showDate()\n",
    "isWeekday()\n",
    "print(getFullName(\"Dani\",\"\",\"Raja\"))\n",
    "print(daftarRekening(\"4842685628310585247\",\"Dodi\"))\n",
    "userRegistration(\"Jaji\",\"12334567\",\"Jaji\")\n",
    "userRegistration(\"Jaji\",\"12334567\",\"Jaji\",True,\"admin\")\n",
    "userRegistration(\"Rusdi\",\"12334567\",\"Rusdi\",role = \"admin\")"
   ]
  },
  {
   "cell_type": "code",
   "execution_count": 7,
   "id": "fb0218d4-b935-44f5-97d3-1612b6c6d17c",
   "metadata": {},
   "outputs": [
    {
     "name": "stdout",
     "output_type": "stream",
     "text": [
      "Args : ('Jan', 'Feb', 'Mar')\n",
      "KWargs: {'nama': 'Dedi', 'umur': 31, 'alamat': 'Jakarta'}\n",
      "Jan\n",
      "Feb\n",
      "Mar\n",
      "Dedi\n",
      "31\n",
      "Jakarta\n",
      "Total jumlah : 6\n",
      "Total jumlah : 15\n"
     ]
    }
   ],
   "source": [
    "#Function argumen dan keyword argumen -> * dan **\n",
    "def printData(*args, **kwargs):\n",
    "    print(\"Args :\", args)\n",
    "    print(\"KWargs:\", kwargs)\n",
    "    return args,kwargs\n",
    "\n",
    "args,kwargs = printData(\"Jan\",\"Feb\",\"Mar\",nama=\"Dedi\",umur=31,alamat=\"Jakarta\")\n",
    "\n",
    "for i in args:\n",
    "    print(i)\n",
    "    \n",
    "for item in kwargs.items():\n",
    "    print(item[1])\n",
    "\n",
    "#Buatlah fungsi untuk penjumlahan dengan jumlah parameter bebas\n",
    "def addNumbers(*numbers):\n",
    "    total = 0\n",
    "    for i in numbers:\n",
    "        total += int(i)\n",
    "    return total\n",
    "\n",
    "print(f\"Total jumlah : {addNumbers(1,2,3)}\")\n",
    "print(f\"Total jumlah : {addNumbers(1,2,3,4,5)}\")"
   ]
  },
  {
   "cell_type": "code",
   "execution_count": null,
   "id": "e51e91ad-537e-4a0f-ad95-8c5de9d09ab1",
   "metadata": {},
   "outputs": [],
   "source": []
  }
 ],
 "metadata": {
  "kernelspec": {
   "display_name": "Python [conda env:base] *",
   "language": "python",
   "name": "conda-base-py"
  },
  "language_info": {
   "codemirror_mode": {
    "name": "ipython",
    "version": 3
   },
   "file_extension": ".py",
   "mimetype": "text/x-python",
   "name": "python",
   "nbconvert_exporter": "python",
   "pygments_lexer": "ipython3",
   "version": "3.12.7"
  }
 },
 "nbformat": 4,
 "nbformat_minor": 5
}

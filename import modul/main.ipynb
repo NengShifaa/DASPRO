{
 "cells": [
  {
   "cell_type": "code",
   "execution_count": 10,
   "id": "3fbac100-73c0-4f9f-b5db-86b9f443dc7a",
   "metadata": {},
   "outputs": [
    {
     "ename": "ImportError",
     "evalue": "cannot import name 'cmToMeter' from 'convert.convert' (C:\\Users\\USER\\Documents\\import modul\\convert\\convert.py)",
     "output_type": "error",
     "traceback": [
      "\u001b[1;31m---------------------------------------------------------------------------\u001b[0m",
      "\u001b[1;31mImportError\u001b[0m                               Traceback (most recent call last)",
      "Cell \u001b[1;32mIn[10], line 1\u001b[0m\n\u001b[1;32m----> 1\u001b[0m \u001b[38;5;28;01mfrom\u001b[39;00m \u001b[38;5;21;01mconvert\u001b[39;00m\u001b[38;5;21;01m.\u001b[39;00m\u001b[38;5;21;01mconvert\u001b[39;00m \u001b[38;5;28;01mimport\u001b[39;00m cmToMeter \u001b[38;5;28;01mas\u001b[39;00m cm\n\u001b[0;32m      3\u001b[0m panjang \u001b[38;5;241m=\u001b[39m \u001b[38;5;28mint\u001b[39m(\u001b[38;5;28minput\u001b[39m(\u001b[38;5;124m\"\u001b[39m\u001b[38;5;124mIsikan panjang (cm):\u001b[39m\u001b[38;5;124m\"\u001b[39m))\n\u001b[0;32m      4\u001b[0m \u001b[38;5;28mprint\u001b[39m(\u001b[38;5;124mf\u001b[39m\u001b[38;5;124m\"\u001b[39m\u001b[38;5;124mPanjang dalam meter : \u001b[39m\u001b[38;5;132;01m{\u001b[39;00mcm(panjang)\u001b[38;5;132;01m}\u001b[39;00m\u001b[38;5;124m\"\u001b[39m)\n",
      "\u001b[1;31mImportError\u001b[0m: cannot import name 'cmToMeter' from 'convert.convert' (C:\\Users\\USER\\Documents\\import modul\\convert\\convert.py)"
     ]
    }
   ],
   "source": []
  },
  {
   "cell_type": "code",
   "execution_count": 10,
   "id": "d51f161d",
   "metadata": {},
   "outputs": [
    {
     "ename": "ImportError",
     "evalue": "cannot import name 'cmToMeter' from 'convert.convert' (C:\\Users\\USER\\Documents\\import modul\\convert\\convert.py)",
     "output_type": "error",
     "traceback": [
      "\u001b[1;31m---------------------------------------------------------------------------\u001b[0m",
      "\u001b[1;31mImportError\u001b[0m                               Traceback (most recent call last)",
      "Cell \u001b[1;32mIn[10], line 1\u001b[0m\n\u001b[1;32m----> 1\u001b[0m \u001b[38;5;28;01mfrom\u001b[39;00m \u001b[38;5;21;01mconvert\u001b[39;00m\u001b[38;5;21;01m.\u001b[39;00m\u001b[38;5;21;01mconvert\u001b[39;00m \u001b[38;5;28;01mimport\u001b[39;00m cmToMeter \u001b[38;5;28;01mas\u001b[39;00m cm\n\u001b[0;32m      3\u001b[0m panjang \u001b[38;5;241m=\u001b[39m \u001b[38;5;28mint\u001b[39m(\u001b[38;5;28minput\u001b[39m(\u001b[38;5;124m\"\u001b[39m\u001b[38;5;124mIsikan panjang (cm):\u001b[39m\u001b[38;5;124m\"\u001b[39m))\n\u001b[0;32m      4\u001b[0m \u001b[38;5;28mprint\u001b[39m(\u001b[38;5;124mf\u001b[39m\u001b[38;5;124m\"\u001b[39m\u001b[38;5;124mPanjang dalam meter : \u001b[39m\u001b[38;5;132;01m{\u001b[39;00mcm(panjang)\u001b[38;5;132;01m}\u001b[39;00m\u001b[38;5;124m\"\u001b[39m)\n",
      "\u001b[1;31mImportError\u001b[0m: cannot import name 'cmToMeter' from 'convert.convert' (C:\\Users\\USER\\Documents\\import modul\\convert\\convert.py)"
     ]
    }
   ],
   "source": [
    "from convert.convert import cmToMeter as cm\n",
    "\n",
    "panjang = int(input(\"Isikan panjang (cm):\"))\n",
    "print(f\"Panjang dalam meter : {cm(panjang)}\")"
   ]
  },
  {
   "cell_type": "code",
   "execution_count": 3,
   "id": "951efbd2-de32-42b4-bd2a-c8b954758027",
   "metadata": {},
   "outputs": [
    {
     "name": "stdout",
     "output_type": "stream",
     "text": [
      "\n",
      "    1. Aritmatika\n",
      "    2. Convert\n",
      "    3. Exit\n",
      "    \n"
     ]
    },
    {
     "name": "stdin",
     "output_type": "stream",
     "text": [
      "Isikan Pilihan: 1\n"
     ]
    },
    {
     "name": "stdout",
     "output_type": "stream",
     "text": [
      "\n",
      "    1. Add\n",
      "    2. Pow\n",
      "    3. Multiply\n",
      "    \n"
     ]
    },
    {
     "name": "stdin",
     "output_type": "stream",
     "text": [
      "Isikan Pilihan Aritmatika: 3\n"
     ]
    },
    {
     "name": "stdout",
     "output_type": "stream",
     "text": [
      "\n",
      "    1. Aritmatika\n",
      "    2. Convert\n",
      "    3. Exit\n",
      "    \n"
     ]
    },
    {
     "name": "stdin",
     "output_type": "stream",
     "text": [
      "Isikan Pilihan: 3\n"
     ]
    },
    {
     "name": "stdout",
     "output_type": "stream",
     "text": [
      "Thank You!!\n"
     ]
    }
   ],
   "source": [
    "def menuUtama():\n",
    "    print(\"\"\"\n",
    "    1. Aritmatika\n",
    "    2. Convert\n",
    "    3. Exit\n",
    "    \"\"\")\n",
    "def menuAritmatika():\n",
    "    print(\"\"\"\n",
    "    1. Add\n",
    "    2. Pow\n",
    "    3. Multiply\n",
    "    \"\"\")\n",
    "while True:\n",
    "    menuUtama()\n",
    "    pilihMenu = int(input(\"Isikan Pilihan:\"))\n",
    "    if pilihMenu==1:\n",
    "        menuAritmatika()\n",
    "        pilihAritmatika = int(input(\"Isikan Pilihan Aritmatika:\"))\n",
    "    elif pilihMenu==2:\n",
    "        pass\n",
    "    elif pilihMenu==3:\n",
    "        print(\"Thank You!!\")\n",
    "        break"
   ]
  },
  {
   "cell_type": "code",
   "execution_count": 2,
   "id": "e4eb16fa-a1f6-4e63-a43b-c55094ba5180",
   "metadata": {},
   "outputs": [
    {
     "name": "stdout",
     "output_type": "stream",
     "text": [
      "\n",
      "    1. Aritmatika\n",
      "    2. Convert\n",
      "    3. Exit\n",
      "    \n"
     ]
    },
    {
     "name": "stdin",
     "output_type": "stream",
     "text": [
      "Isikan Pilihan: 2\n"
     ]
    },
    {
     "name": "stdout",
     "output_type": "stream",
     "text": [
      "\n",
      "    1. Aritmatika\n",
      "    2. Convert\n",
      "    3. Exit\n",
      "    \n"
     ]
    },
    {
     "name": "stdin",
     "output_type": "stream",
     "text": [
      "Isikan Pilihan: 1\n"
     ]
    },
    {
     "name": "stdout",
     "output_type": "stream",
     "text": [
      "\n",
      "    1. Add\n",
      "    2. Pow\n",
      "    3. Multiply\n",
      "    \n"
     ]
    },
    {
     "name": "stdin",
     "output_type": "stream",
     "text": [
      "Isikan Pilihan Aritmatika: 3\n"
     ]
    },
    {
     "name": "stdout",
     "output_type": "stream",
     "text": [
      "\n",
      "    1. Aritmatika\n",
      "    2. Convert\n",
      "    3. Exit\n",
      "    \n"
     ]
    },
    {
     "name": "stdin",
     "output_type": "stream",
     "text": [
      "Isikan Pilihan: 3\n"
     ]
    },
    {
     "name": "stdout",
     "output_type": "stream",
     "text": [
      "Thank You!!\n"
     ]
    }
   ],
   "source": [
    "def menuUtama():\n",
    "    print(\"\"\"\n",
    "    1. Aritmatika\n",
    "    2. Convert\n",
    "    3. Exit\n",
    "    \"\"\")\n",
    "    \n",
    "def menuAritmatika():\n",
    "    print(\"\"\"\n",
    "    1. Add\n",
    "    2. Pow\n",
    "    3. Multiply\n",
    "    \"\"\")\n",
    "def menuConvert():\n",
    "    print(\"\"\"\n",
    "    1. Cm To Meter\n",
    "    2. meter To Cm\n",
    "    \"\"\")\n",
    "while True:\n",
    "    menuUtama()\n",
    "    pilihMenu = int(input(\"Isikan Pilihan:\"))\n",
    "    if pilihMenu==1:\n",
    "        menuAritmatika()\n",
    "        pilihAritmatika = int(input(\"Isikan Pilihan Aritmatika:\"))\n",
    "    elif pilihMenu==2:\n",
    "        pass\n",
    "    elif pilihMenu==3:\n",
    "        print(\"Thank You!!\")\n",
    "        break"
   ]
  },
  {
   "cell_type": "code",
   "execution_count": null,
   "id": "4eb08473-8d14-4826-add3-8eb8f1bb2f3c",
   "metadata": {},
   "outputs": [],
   "source": []
  }
 ],
 "metadata": {
  "kernelspec": {
   "display_name": "Python [conda env:base] *",
   "language": "python",
   "name": "conda-base-py"
  },
  "language_info": {
   "codemirror_mode": {
    "name": "ipython",
    "version": 3
   },
   "file_extension": ".py",
   "mimetype": "text/x-python",
   "name": "python",
   "nbconvert_exporter": "python",
   "pygments_lexer": "ipython3",
   "version": "3.12.7"
  }
 },
 "nbformat": 4,
 "nbformat_minor": 5
}

{
 "cells": [
  {
   "cell_type": "code",
   "execution_count": null,
   "id": "6d6e7902",
   "metadata": {},
   "outputs": [],
   "source": []
  },
  {
   "cell_type": "code",
   "execution_count": 6,
   "id": "9dc41754",
   "metadata": {},
   "outputs": [
    {
     "name": "stdout",
     "output_type": "stream",
     "text": [
      "Nama : Tedi\n",
      "Alamat : Jl, Cisaat\n",
      "Umur : 23\n",
      "Nilai Pemrograman : (85, 7)\n",
      "Status False\n",
      "Provinsi: 7413412\n"
     ]
    }
   ],
   "source": [
    "name = \"Tedi\"\n",
    "address,province= \"Jl, Cisaat\",\"7413412\"\n",
    "age = 23\n",
    "scorePython = 85,7\n",
    "isMarried = False\n",
    "\n",
    "print(\"Nama :\",name)\n",
    "print(\"Alamat :\",address)\n",
    "print(\"Umur :\",age)\n",
    "print(\"Nilai Pemrograman :\",scorePython)\n",
    "print(\"Status\", isMarried)\n",
    "print(\"Provinsi:\", province)\n"
   ]
  },
  {
   "cell_type": "code",
   "execution_count": 3,
   "id": "c99d5f80",
   "metadata": {},
   "outputs": [
    {
     "name": "stdout",
     "output_type": "stream",
     "text": [
      "Tipe data <name> : <class 'str'>\n",
      "Tipe data <address> : <class 'str'>\n",
      "Tipe data <age> : <class 'int'>\n",
      "Tipe data <scorePython> : <class 'tuple'>\n",
      "Tipe data <isMarried> : <class 'bool'>\n"
     ]
    }
   ],
   "source": [
    "print(\"Tipe data <name> :\",type(name))\n",
    "print(\"Tipe data <address> :\",type(address))\n",
    "print(\"Tipe data <age> :\",type(age))\n",
    "print(\"Tipe data <scorePython> :\",type(scorePython))\n",
    "print(\"Tipe data <isMarried> :\",type(isMarried))"
   ]
  },
  {
   "cell_type": "code",
   "execution_count": null,
   "id": "1070871d",
   "metadata": {},
   "outputs": [],
   "source": [
    "#Casting / KOnversi Tipe Data\n",
    "#1. String ke (int,float,boolean)\n",
    "strToInt = int(province)\n",
    "srtToFloat = float(province)\n",
    "srtToBool = bool(province)\n",
    "ptint(strToInt + 2,strToFloat,strToBool, sep=\"-\")\n",
    "\n",
    "#2. Int ke (str,float,boolean)\n",
    "intToSrt = srt(age)\n",
    "intToInt = int(age)\n",
    "intToBool = bool(age)\n",
    "ptint(intTostr, intToFloat, intToBool, sep=\"-\")\n",
    "\n",
    "#3. Float ke (int,str, boolean)\n",
    "floatToSrt = srt(scorepython)\n",
    "floatToInt = int(scorepython)\n",
    "floatToBool = bool(scorepython)\n",
    "ptint(floatToInt, floatTostr, floatToBool, sep=\"-\")\n",
    "\n",
    "#4. Boolean ke (int, str, float)\n",
    "boolToInt = int(isMarried)\n",
    "boolToStr = srt(isMarried)\n",
    "boolToFloat = float(isMarried)\n",
    "ptint(boolToInt, boolToStr, boolToFloat, sep=\"-\")\n"
   ]
  },
  {
   "cell_type": "code",
   "execution_count": 8,
   "id": "286a6265",
   "metadata": {},
   "outputs": [
    {
     "name": "stdout",
     "output_type": "stream",
     "text": [
      "Nilai desimal: 500\n",
      "NIlai biner: 10\n",
      "Nilai octal: 255\n",
      "Nilai hexa: 255\n",
      "Nilai biner dari  500 : 0b111110100\n",
      "Nilai octal dari  500 : 0o764\n",
      "Nilai hexa dari  500 : 0x1f4\n"
     ]
    }
   ],
   "source": [
    "#Tipe Data basis bilangan (desimal,biner,octal,hexa)\n",
    "\n",
    "desimal = 500\n",
    "biner = 0b1010 #10\n",
    "octal = 0o377 #255\n",
    "hexa = 0xff #255\n",
    "\n",
    "print(\"Nilai desimal:\",desimal)\n",
    "print(\"NIlai biner:\",biner)\n",
    "print(\"Nilai octal:\",octal)\n",
    "print(\"Nilai hexa:\",hexa)\n",
    "\n",
    "print(\"Nilai biner dari \",desimal, \":\",bin(desimal))\n",
    "print(\"Nilai octal dari \",desimal, \":\",oct(desimal))\n",
    "print(\"Nilai hexa dari \",desimal, \":\",hex(desimal))\n"
   ]
  },
  {
   "cell_type": "code",
   "execution_count": 10,
   "id": "f5c2fbb3",
   "metadata": {},
   "outputs": [
    {
     "name": "stdout",
     "output_type": "stream",
     "text": [
      "B\n",
      "7\n",
      "G\n"
     ]
    }
   ],
   "source": [
    "city = \"BANDUNG\"\n",
    "length = len(city)\n",
    "print(city[0])\n",
    "print(length)\n",
    "print(city[length-1])"
   ]
  },
  {
   "cell_type": "code",
   "execution_count": 30,
   "id": "98399fef",
   "metadata": {},
   "outputs": [
    {
     "name": "stdout",
     "output_type": "stream",
     "text": [
      "['Bandung', 'Sukabumi', 'Bogor', 'Jakarta', 'Medan']\n",
      "Bandung\n",
      "Medan\n",
      "M\n",
      "n\n",
      "['Bali', 'Sukabumi', 'Bogor', 'Jakarta', 'Medan']\n",
      "('Andi', 'Febri', 'Raihan')\n",
      "Febri\n",
      "{'name': 'Robi', 'age': 25, 'address': {'street': 'Cisaat', 'number': 21, 'province': 'jawa Barat'}, 'isMarried': True, 'hobbies': ['Basket Ball', 'Football']}\n",
      "25\n",
      "jawa Barat\n",
      "Basket Ball\n"
     ]
    },
    {
     "ename": "NameError",
     "evalue": "name 'studentList' is not defined",
     "output_type": "error",
     "traceback": [
      "\u001b[1;31m---------------------------------------------------------------------------\u001b[0m",
      "\u001b[1;31mNameError\u001b[0m                                 Traceback (most recent call last)",
      "Input \u001b[1;32mIn [30]\u001b[0m, in \u001b[0;36m<cell line: 60>\u001b[1;34m()\u001b[0m\n\u001b[0;32m     33\u001b[0m \u001b[38;5;28mprint\u001b[39m(studentData[\u001b[38;5;124m\"\u001b[39m\u001b[38;5;124mhobbies\u001b[39m\u001b[38;5;124m\"\u001b[39m][\u001b[38;5;241m0\u001b[39m])\n\u001b[0;32m     35\u001b[0m SudentList \u001b[38;5;241m=\u001b[39m [\n\u001b[0;32m     36\u001b[0m     {\n\u001b[0;32m     37\u001b[0m         \u001b[38;5;124m\"\u001b[39m\u001b[38;5;124mname\u001b[39m\u001b[38;5;124m\"\u001b[39m : \u001b[38;5;124m\"\u001b[39m\u001b[38;5;124mRobi\u001b[39m\u001b[38;5;124m\"\u001b[39m,\n\u001b[1;32m   (...)\u001b[0m\n\u001b[0;32m     58\u001b[0m     \n\u001b[0;32m     59\u001b[0m ]\n\u001b[1;32m---> 60\u001b[0m \u001b[38;5;28mprint\u001b[39m(\u001b[43mstudentList\u001b[49m[\u001b[38;5;241m1\u001b[39m][\u001b[38;5;124m\"\u001b[39m\u001b[38;5;124maddress\u001b[39m\u001b[38;5;124m\"\u001b[39m][\u001b[38;5;124m\"\u001b[39m\u001b[38;5;124mprovince\u001b[39m\u001b[38;5;124m\"\u001b[39m])\n",
      "\u001b[1;31mNameError\u001b[0m: name 'studentList' is not defined"
     ]
    }
   ],
   "source": [
    "#Tipe data collection\n",
    "cities = [\"Bandung\",\"Sukabumi\",\"Bogor\",\"Jakarta\",\"Medan\"]\n",
    "lengthCities = len(cities)\n",
    "print(cities)\n",
    "print(cities[0])\n",
    "print(cities[lengthCities-1])\n",
    "print(cities[lengthCities-1][0])\n",
    "print(cities[lengthCities-1][len(cities[lengthCities-1])-1])\n",
    "cities[0] = \"Bali\"\n",
    "#cities[5] = \"Malang\" akan menyebabkan error out of range\n",
    "print(cities)\n",
    "\n",
    "names = (\"Andi\",\"Febri\",\"Raihan\")\n",
    "print(names)\n",
    "print(names[1])\n",
    "#names[0] = \"Dedi\" error immutable tuple\n",
    "\n",
    "studentData = {\n",
    "    \"name\" : \"Robi\",\n",
    "    \"age\" : 25,\n",
    "    \"address\" : {\n",
    "        \"street\" : \"Cisaat\",\n",
    "        \"number\" : 21,\n",
    "        \"province\" : \"jawa Barat\"\n",
    "    },\n",
    "    \"isMarried\" :True,\n",
    "    \"hobbies\" : [\"Basket Ball\", \"Football\"]\n",
    "}\n",
    "\n",
    "print(studentData)\n",
    "print(studentData[\"age\"])\n",
    "print(studentData[\"address\"][\"province\"])\n",
    "print(studentData[\"hobbies\"][0])\n",
    "\n",
    "SudentList = [\n",
    "    {\n",
    "        \"name\" : \"Robi\",\n",
    "        \"age\" : 25,\n",
    "        \"address\" : {\n",
    "            \"street\" : \"Cisaat\",\n",
    "            \"number\" : 21,\n",
    "            \"province\" : \"jawa Barat\"\n",
    "        },\n",
    "        \"isMarried\" :True,\n",
    "        \"hobbies\" : [\"Basket Ball\", \"Football\"]\n",
    "    },\n",
    "        {\n",
    "        \"name\" : \"Dedi\",\n",
    "        \"age\" : 15,\n",
    "        \"address\" : {\n",
    "            \"street\" : \"Cisaat\",\n",
    "            \"number\" : 29,\n",
    "            \"province\" : \"jawa Barat\"\n",
    "        },\n",
    "        \"isMarried\" :True,\n",
    "        \"hobbies\" : [\"Chess\", \"Singing\"]\n",
    "    }\n",
    "    \n",
    "]\n",
    "print(studentList[1][\"address\"][\"province\"])"
   ]
  },
  {
   "cell_type": "code",
   "execution_count": null,
   "id": "474d376c",
   "metadata": {},
   "outputs": [],
   "source": [
    "#konversi dictionary\n",
    "\n",
    "list_list = [[\"name, \"Andi\"], [\"age\", 20], [\"status\", True]]\n",
    "dictlitstStudent = dict(list_list)\n",
    "print(dictlitstStudent)\n",
    "              \n",
    "list_Tuple = [(\"name\", \"Dedi\"), (\"address\", \"Sukabumi\")]\n",
    "dicTupleStudent = dict(list_tuple)\n",
    "print(dicTupleStudent)\n",
    "              \n",
    "Tuple_list = [(\"name\", \"Deni\"), (\"type\", \"mamalia\")]\n",
    "dicTupleAnimal = dict(list_tuple)\n",
    "print(dicTupleAnimal)\n",
    "              \n",
    "list_Tuple = [(\"name\", \"Dandi\"), (\"type\", \"Reptile\")]\n",
    "dicTupleAnimal = dict(tuple_tuple)\n",
    "print(dicTupleAnimal)"
   ]
  }
 ],
 "metadata": {
  "kernelspec": {
   "display_name": "Python 3 (ipykernel)",
   "language": "python",
   "name": "python3"
  },
  "language_info": {
   "codemirror_mode": {
    "name": "ipython",
    "version": 3
   },
   "file_extension": ".py",
   "mimetype": "text/x-python",
   "name": "python",
   "nbconvert_exporter": "python",
   "pygments_lexer": "ipython3",
   "version": "3.9.12"
  }
 },
 "nbformat": 4,
 "nbformat_minor": 5
}

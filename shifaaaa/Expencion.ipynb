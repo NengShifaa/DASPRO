{
 "cells": [
  {
   "cell_type": "code",
   "execution_count": 1,
   "id": "d727f864",
   "metadata": {},
   "outputs": [
    {
     "name": "stdout",
     "output_type": "stream",
     "text": [
      "Angka 110\n",
      "Angka 21\n",
      "10.0\n",
      "Program Selesai\n"
     ]
    }
   ],
   "source": [
    "try:\n",
    "    angka1 = int(input(\"Angka 1\"))\n",
    "    angka2 = int(input(\"Angka 2\"))\n",
    "    hasil = angka1 / angka2\n",
    "except ZeroDivisiEror:\n",
    "    print(\"tidak boleh pembagian dengan 0\")\n",
    "except VaalueEror:\n",
    "    print(\"input harus angka\")\n",
    "else:\n",
    "    print(hasil)\n",
    "finally:\n",
    "    print(\"Program Selesai\")"
   ]
  },
  {
   "cell_type": "code",
   "execution_count": 2,
   "id": "f7ed7cf6",
   "metadata": {},
   "outputs": [
    {
     "name": "stdout",
     "output_type": "stream",
     "text": [
      "Angka 111\n",
      "Angka 22\n",
      "5.5\n",
      "Program Selesai\n"
     ]
    }
   ],
   "source": [
    "try:\n",
    "    angka1 = int(input(\"Angka 1\"))\n",
    "    angka2 = int(input(\"Angka 2\"))\n",
    "    hasil = angka1 / angka2\n",
    "except (ZeroDivisiEror, ValueEror) as e:\n",
    "    print(f\"Terjadi kesalahan, {e}\")\n",
    "else:\n",
    "    print(hasil)\n",
    "finally:\n",
    "    print(\"Program Selesai\")"
   ]
  },
  {
   "cell_type": "code",
   "execution_count": 3,
   "id": "b59bdb7b",
   "metadata": {},
   "outputs": [
    {
     "name": "stdout",
     "output_type": "stream",
     "text": [
      "Isi1kan Urutan Indeks:2\n",
      "80\n"
     ]
    }
   ],
   "source": [
    "try:\n",
    "    dataNilai = [100,90,80,70,60,100,70]\n",
    "    tampilData = int(input(\"Isi1kan Urutan Indeks:\"))\n",
    "    print(dataNilai[tampilData])\n",
    "except IndeksEror as ie:\n",
    "    print(f\"Terjadi kesalahan: {ie}\")"
   ]
  },
  {
   "cell_type": "code",
   "execution_count": 4,
   "id": "c41bc03d",
   "metadata": {},
   "outputs": [
    {
     "name": "stdout",
     "output_type": "stream",
     "text": [
      "terjadi kesalahan 'orangtua'\n"
     ]
    }
   ],
   "source": [
    "try:\n",
    "    dataMahasiswa = {\n",
    "        'nim'    : 110202020,\n",
    "        'nama'   : \"Andri\",\n",
    "        'alamat' : \"Bandung\",\n",
    "        'kelas'  : \"TI24H\", \n",
    "    }\n",
    "    print(dataMahasiswa[\"orangtua\"])\n",
    "except KeyError as ue:\n",
    "    print(f\"terjadi kesalahan {ue}\")"
   ]
  },
  {
   "cell_type": "code",
   "execution_count": 5,
   "id": "e27cf51e",
   "metadata": {},
   "outputs": [
    {
     "name": "stdout",
     "output_type": "stream",
     "text": [
      "Terjadi kesalahan Nilai tidak boleh negatif\n"
     ]
    }
   ],
   "source": [
    "#Own Exception\n",
    "class NilaiNegatifError(Exception):\n",
    "    pass\n",
    "\n",
    "def cekNilai(x):\n",
    "    if(x<0):\n",
    "        raise NilaiNegatifError(\"Nilai tidak boleh negatif\")\n",
    "        \n",
    "try:\n",
    "    cekNilai(-17)\n",
    "except NilaiNegatifError as negatif:\n",
    "    print(f\"Terjadi kesalahan {negatif}\")"
   ]
  },
  {
   "cell_type": "code",
   "execution_count": 6,
   "id": "9b8e1d52",
   "metadata": {},
   "outputs": [
    {
     "ename": "FileNotFoundError",
     "evalue": "[Errno 2] No such file or directory: 'dataCustomer.csv'",
     "output_type": "error",
     "traceback": [
      "\u001b[1;31m---------------------------------------------------------------------------\u001b[0m",
      "\u001b[1;31mFileNotFoundError\u001b[0m                         Traceback (most recent call last)",
      "Input \u001b[1;32mIn [6]\u001b[0m, in \u001b[0;36m<cell line: 5>\u001b[1;34m()\u001b[0m\n\u001b[0;32m      1\u001b[0m \u001b[38;5;66;03m#File  Handling\u001b[39;00m\n\u001b[0;32m      2\u001b[0m \u001b[38;5;66;03m#variabel = open(\"nama_file\",\"mode\")\u001b[39;00m\n\u001b[0;32m      3\u001b[0m \u001b[38;5;66;03m#mode - r (read), w (write), a (append)\u001b[39;00m\n\u001b[1;32m----> 5\u001b[0m f\u001b[38;5;241m=\u001b[39m \u001b[38;5;28;43mopen\u001b[39;49m\u001b[43m(\u001b[49m\u001b[38;5;124;43m\"\u001b[39;49m\u001b[38;5;124;43mdataCustomer.csv\u001b[39;49m\u001b[38;5;124;43m\"\u001b[39;49m\u001b[43m,\u001b[49m\u001b[38;5;124;43m\"\u001b[39;49m\u001b[38;5;124;43mr\u001b[39;49m\u001b[38;5;124;43m\"\u001b[39;49m\u001b[43m)\u001b[49m\n\u001b[0;32m      6\u001b[0m konten \u001b[38;5;241m=\u001b[39m f\u001b[38;5;241m.\u001b[39mread()\n\u001b[0;32m      7\u001b[0m \u001b[38;5;28mprint\u001b[39m(konten)\n",
      "\u001b[1;31mFileNotFoundError\u001b[0m: [Errno 2] No such file or directory: 'dataCustomer.csv'"
     ]
    }
   ],
   "source": [
    "#File  Handling\n",
    "#variabel = open(\"nama_file\",\"mode\")\n",
    "#mode - r (read), w (write), a (append)\n",
    "\n",
    "f= open(\"dataCustomer.csv\",\"r\")\n",
    "konten = f.read()\n",
    "print(konten)\n",
    "f.close()"
   ]
  },
  {
   "cell_type": "code",
   "execution_count": null,
   "id": "ac7673e4",
   "metadata": {},
   "outputs": [],
   "source": [
    "try:\n",
    "    with open(\"dataCustomer.csv\") as f:\n",
    "        print(f.read())\n",
    "except fileNotFoundError as fnf:\n",
    "    print(f\"Terjadi Kesalahan: {fnf}\")\n",
    "else:\n",
    "    print(\"Data sudah selesai dibaca semuanya\")\n",
    "finally:\n",
    "    print(\"Program Selesai\")"
   ]
  },
  {
   "cell_type": "code",
   "execution_count": null,
   "id": "90ba881b",
   "metadata": {},
   "outputs": [],
   "source": [
    "try:\n",
    "    with open(\"data.txt\",\"r\") as f:\n",
    "        print(f.read())\n",
    "except FileNotFoundError as fnf:\n",
    "    print(f\"Terjadi Kesalahan: {fnf}\")\n",
    "else:\n",
    "    print(\"Data Sudah Selesai dibaca semuanya\")\n",
    "finally:\n",
    "    print(\"program Selesai\")"
   ]
  },
  {
   "cell_type": "code",
   "execution_count": null,
   "id": "cf95abf1",
   "metadata": {},
   "outputs": [],
   "source": [
    "try:\n",
    "    with open(\"data.txt\",\"a\") as f:\n",
    "        f.write(\"Halo Apa Kabar!\\n\")\n",
    "        f.write(\"Sebentar lagi UAS!!\")\n",
    "except IOError:\n",
    "    print(IOError)\n",
    "else:\n",
    "    print(\"Proses selesai\")"
   ]
  },
  {
   "cell_type": "code",
   "execution_count": null,
   "id": "32a63768",
   "metadata": {},
   "outputs": [],
   "source": []
  }
 ],
 "metadata": {
  "kernelspec": {
   "display_name": "Python 3 (ipykernel)",
   "language": "python",
   "name": "python3"
  },
  "language_info": {
   "codemirror_mode": {
    "name": "ipython",
    "version": 3
   },
   "file_extension": ".py",
   "mimetype": "text/x-python",
   "name": "python",
   "nbconvert_exporter": "python",
   "pygments_lexer": "ipython3",
   "version": "3.9.12"
  }
 },
 "nbformat": 4,
 "nbformat_minor": 5
}

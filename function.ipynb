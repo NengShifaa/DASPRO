{
 "cells": [
  {
   "cell_type": "code",
   "execution_count": 1,
   "id": "85c7a6ce-0468-4aa7-8768-1607d96fef6d",
   "metadata": {},
   "outputs": [],
   "source": [
    "#Fungsi tanpa parameter\n",
    "import datetime as dt #Built in function\n",
    "def showDate():\n",
    "    today = dt.date.today()\n",
    "    print(f\"Sekarang tanggal : {today}\")\n",
    "\n",
    "def isWeekday():\n",
    "    week = dt.date.today().weekday()\n",
    "    if week >=5:\n",
    "        print(f\"Sekarang adalah weekand\")\n",
    "    else:\n",
    "        print(f\"Sekarang saatnya bekerja\")"
   ]
  },
  {
   "cell_type": "code",
   "execution_count": 2,
   "id": "03ae9138-d562-428b-bd5d-c129365a4fe5",
   "metadata": {},
   "outputs": [],
   "source": [
    "#Fungsi dengan parameter\n",
    "def getFullName(first,middle,last):\n",
    "    return (f\"Welcome, {first} {middle} {last}, S.Kom\")"
   ]
  },
  {
   "cell_type": "code",
   "execution_count": 6,
   "id": "9893f8f8-413b-4427-b0bf-92f8e3245ed8",
   "metadata": {},
   "outputs": [
    {
     "name": "stdin",
     "output_type": "stream",
     "text": [
      "Isikan Bilangan 1: 6\n",
      "Isikan Bilangan 2: 10\n"
     ]
    },
    {
     "name": "stdout",
     "output_type": "stream",
     "text": [
      "Hasil penjumlahan 6 dan 10 = 16\n",
      "Hasil perkalian 6 dan 10 = 60\n",
      "Hasil penjumlahan 16 dan 60 = 76\n",
      "Hasil penjumlahan 6 dan 10 = 16\n",
      "Hasil perkalian 6 dan 10 = 60\n"
     ]
    }
   ],
   "source": [
    "#Fungsi dengan parameter dan return value untuk aritmatika\n",
    "def addNumber(num1,num2):\n",
    "    return num1 + num2\n",
    "\n",
    "def multiplyNumber(num1,num2):\n",
    "    return num1 * num2\n",
    "\n",
    "def addMulNumber(num1,num2):\n",
    "    add = num1 + num2\n",
    "    mul = num1 * num2\n",
    "    return add,mul\n",
    "    \n",
    "bil1 = int(input(\"Isikan Bilangan 1:\")) #10\n",
    "bil2 = int(input(\"Isikan Bilangan 2:\")) #5\n",
    "r1 = addNumber(bil1,bil2) #15\n",
    "r2 = multiplyNumber(bil1,bil2) #50\n",
    "r3 = addNumber(r1,r2) #65\n",
    "add,mul = addMulNumber(bil1,bil2) #15,50\n",
    "\n",
    "print(f\"Hasil penjumlahan {bil1} dan {bil2} = {r1}\")\n",
    "print(f\"Hasil perkalian {bil1} dan {bil2} = {r2}\")\n",
    "print(f\"Hasil penjumlahan {r1} dan {r2} = {r3}\")\n",
    "print(f\"Hasil penjumlahan {bil1} dan {bil2} = {add}\")\n",
    "print(f\"Hasil perkalian {bil1} dan {bil2} = {mul}\")"
   ]
  },
  {
   "cell_type": "code",
   "execution_count": 7,
   "id": "4d4ec086-5641-41b2-ab36-facdaf54b638",
   "metadata": {},
   "outputs": [
    {
     "name": "stdout",
     "output_type": "stream",
     "text": [
      "Sekarang tanggal : 2025-05-28\n",
      "Sekarang saatnya bekerja\n",
      "Welcome, Andi  Raharja, S.Kom\n",
      "Akun berhasil dibuat:\n",
      "No KTP:4842685628310585247\n",
      "Nama:Rudi\n",
      "Saldo awal:100000\n",
      "Proses Registrasi Berhasil!!\n",
      "Username :Adi\n",
      "NamaAdi\n",
      "Status :False\n",
      "Hak akses :user\n",
      "Proses Registrasi Berhasil!!\n",
      "Username :Adi\n",
      "NamaAdi\n",
      "Status :True\n",
      "Hak akses :admin\n",
      "Proses Registrasi Berhasil!!\n",
      "Username :Adi\n",
      "NamaAdi\n",
      "Status :False\n",
      "Hak akses :admin\n"
     ]
    }
   ],
   "source": [
    "#Fungai dengan nilai default\n",
    "def daftarRekening(no_ktp, nama, saldo=100000):\n",
    "    ket = f\"Akun berhasil dibuat:\\n\"\n",
    "    ket += f\"No KTP:{no_ktp}\\n\"\n",
    "    ket += f\"Nama:{nama}\\n\"\n",
    "    ket += f\"Saldo awal:{saldo}\"\n",
    "    return ket \n",
    "\n",
    "def userRegistration(username, password, nama, status=False, role=\"user\"):\n",
    "    print(f\"Proses Registrasi Berhasil!!\")\n",
    "    print(f\"Username :{username}\")\n",
    "    print(f\"Nama{nama}\")\n",
    "    print(f\"Status :{status}\")\n",
    "    print(f\"Hak akses :{role}\")\n",
    "\n",
    "showDate()\n",
    "isWeekday()\n",
    "print(getFullName(\"Andi\",\"\",\"Raharja\"))\n",
    "print(daftarRekening(\"4842685628310585247\",\"Rudi\"))\n",
    "userRegistration(\"Adi\",\"12334567\",\"Adi\")\n",
    "userRegistration(\"Adi\",\"12334567\",\"Adi\",True,\"admin\")\n",
    "userRegistration(\"Adi\",\"12334567\",\"Adi\",role = \"admin\")"
   ]
  },
  {
   "cell_type": "code",
   "execution_count": 8,
   "id": "1bdbcdfd-f555-4d09-bc9b-116adce861da",
   "metadata": {},
   "outputs": [
    {
     "name": "stdout",
     "output_type": "stream",
     "text": [
      "Args : ('Jan', 'Feb', 'Mar')\n",
      "KWargs: {'nama': 'Budi', 'umur': 21, 'alamat': 'Bandung'}\n",
      "Jan\n",
      "Feb\n",
      "Mar\n",
      "Budi\n",
      "21\n",
      "Bandung\n",
      "Total jumlah : 6\n",
      "Total jumlah : 15\n"
     ]
    }
   ],
   "source": [
    "#Function argumen dan keyword argumen -> * dan **\n",
    "def printData(*args, **kwargs):\n",
    "    print(\"Args :\", args)\n",
    "    print(\"KWargs:\", kwargs)\n",
    "    return args,kwargs\n",
    "\n",
    "args,kwargs = printData(\"Jan\",\"Feb\",\"Mar\",nama=\"Budi\",umur=21,alamat=\"Bandung\")\n",
    "\n",
    "for i in args:\n",
    "    print(i)\n",
    "    \n",
    "for item in kwargs.items():\n",
    "    print(item[1])\n",
    "\n",
    "#Buatlah fungsi untuk penjumlahan dengan jumlah parameter bebas\n",
    "def addNumbers(*numbers):\n",
    "    total = 0\n",
    "    for i in numbers:\n",
    "        total += int(i)\n",
    "    return total\n",
    "\n",
    "print(f\"Total jumlah : {addNumbers(1,2,3)}\")\n",
    "print(f\"Total jumlah : {addNumbers(1,2,3,4,5)}\")"
   ]
  },
  {
   "cell_type": "code",
   "execution_count": null,
   "id": "4477424f-bbe0-4e7f-b197-5c55688b1b26",
   "metadata": {},
   "outputs": [],
   "source": []
  },
  {
   "cell_type": "code",
   "execution_count": null,
   "id": "ddf080ca-9f39-4de7-8d0e-c6d50173d11c",
   "metadata": {},
   "outputs": [],
   "source": []
  }
 ],
 "metadata": {
  "kernelspec": {
   "display_name": "Python [conda env:base] *",
   "language": "python",
   "name": "conda-base-py"
  },
  "language_info": {
   "codemirror_mode": {
    "name": "ipython",
    "version": 3
   },
   "file_extension": ".py",
   "mimetype": "text/x-python",
   "name": "python",
   "nbconvert_exporter": "python",
   "pygments_lexer": "ipython3",
   "version": "3.12.7"
  }
 },
 "nbformat": 4,
 "nbformat_minor": 5
}
